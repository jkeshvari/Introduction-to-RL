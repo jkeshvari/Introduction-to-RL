{
 "cells": [
  {
   "cell_type": "code",
   "execution_count": 11,
   "metadata": {},
   "outputs": [
    {
     "name": "stdout",
     "output_type": "stream",
     "text": [
      "2\n"
     ]
    }
   ],
   "source": [
    "### Numpy\n",
    "import numpy as np\n",
    "\n",
    "## convert a list to np array\n",
    "arr1 = np.array([1, 2, 3, 4, 5]) # 1D array\n",
    "# print(arr1)\n",
    "# print(type(arr1))\n",
    "\n",
    "l2 = [[1,2,3],[4,5,6]]\n",
    "arr2 = np.array(l2) # 2D array\n",
    "\n",
    "l3 = [[[1,2,3],[4,5,6]],[[7,8,9],[10,11,12]]]\n",
    "arr3 = np.array(l3)\n",
    "## shape\n",
    "# print(np.shape(arr3))\n",
    "\n",
    "## dimention\n",
    "print(arr2.ndim)\n",
    "\n",
    "\n"
   ]
  },
  {
   "cell_type": "code",
   "execution_count": 16,
   "metadata": {},
   "outputs": [
    {
     "name": "stdout",
     "output_type": "stream",
     "text": [
      "1\n",
      "5\n",
      "6\n"
     ]
    }
   ],
   "source": [
    "## Indexing , access 1D array\n",
    "\n",
    "arr1 = np.array([1,  2,  3,  4,  5])\n",
    "#                0   1   2   3   4\n",
    "#               -5  -4  -3  -2   -1\n",
    "print(arr1[0])\n",
    "print(arr1[-1])\n",
    "print(arr1[0]+arr1[-1])"
   ]
  },
  {
   "cell_type": "code",
   "execution_count": 20,
   "metadata": {},
   "outputs": [
    {
     "name": "stdout",
     "output_type": "stream",
     "text": [
      "[[1 2 3]\n",
      " [4 5 6]]\n",
      "6\n"
     ]
    }
   ],
   "source": [
    "## Index 2D \n",
    "# arr2 = np.array([[1,2,3],[4,5,6]])\n",
    "\n",
    "# arr2[1,1]\n",
    "# print(arr2)\n",
    "\n",
    "## Index 3D\n",
    "l3 = [[[1,2,3],[4,5,6]],[[7,8,9],[10,11,12]]]\n",
    "arr3 = np.array(l3)\n",
    "print(arr3[0,1,2])"
   ]
  },
  {
   "cell_type": "code",
   "execution_count": 28,
   "metadata": {},
   "outputs": [
    {
     "name": "stdout",
     "output_type": "stream",
     "text": [
      "[7 8 9]\n"
     ]
    }
   ],
   "source": [
    "## Slicing in 1D array\n",
    "\n",
    "arr = np.array([1,2,3,4,5,6,7])\n",
    "\n",
    "# arr[start:end:step]\n",
    "# print(arr[1:5])\n",
    "# print(arr[:4])\n",
    "# print(arr[4:])\n",
    "# print(arr[1:5:2])\n",
    "# print(arr[::2])\n",
    "\n",
    "arr2d = np.array([[1,2,3,4,5],[6,7,8,9,10]])\n",
    "print(arr2d[1,1:4])\n"
   ]
  },
  {
   "cell_type": "code",
   "execution_count": 31,
   "metadata": {},
   "outputs": [
    {
     "name": "stdout",
     "output_type": "stream",
     "text": [
      "(2, 4)\n",
      "8\n",
      "8\n"
     ]
    }
   ],
   "source": [
    "#shape and size\n",
    "arr = np.array([[1,2,3,4],[5,6,7,8]])\n",
    "print(arr.shape)\n",
    "print(arr.size) # print(arr.shape[0]*arr.shape[1])\n",
    "print(arr.shape[0]*arr.shape[1])\n"
   ]
  },
  {
   "cell_type": "code",
   "execution_count": 41,
   "metadata": {},
   "outputs": [
    {
     "name": "stdout",
     "output_type": "stream",
     "text": [
      "[[ 1  2]\n",
      " [ 3  4]\n",
      " [ 5  6]\n",
      " [ 7  8]\n",
      " [ 9 10]\n",
      " [11 12]]\n",
      "[[[ 1  2  3]\n",
      "  [ 4  5  6]]\n",
      "\n",
      " [[ 7  8  9]\n",
      "  [10 11 12]]]\n"
     ]
    }
   ],
   "source": [
    "## convert 1d to 2d array\n",
    "##reshape\n",
    "\n",
    "arr = np.array([1,2,3,4,5,6,7,8,9,10,11,12]) #1D\n",
    "# arr.shape\n",
    "newarr = arr.reshape(6,2) #2D\n",
    "print(newarr)\n",
    "\n",
    "newarr2 = arr.reshape(2,2,3)\n",
    "print(newarr2)"
   ]
  },
  {
   "cell_type": "code",
   "execution_count": 44,
   "metadata": {},
   "outputs": [
    {
     "name": "stdout",
     "output_type": "stream",
     "text": [
      "[ 1  2  3  4  5  6  7  8  9 10 11 12]\n",
      "[ 0  2  3  4  5  6  7  8  9 10 11 12]\n",
      "[[ 0  2  3  4]\n",
      " [ 5  6  7  8]\n",
      " [ 9 10 11 12]]\n",
      "[[ 1  2  3  4]\n",
      " [ 5  6  7  8]\n",
      " [ 9 10 11 12]]\n"
     ]
    }
   ],
   "source": [
    "## is reshape view or copy? view\n",
    "arr = np.array([1,2,3,4,5,6,7,8,9,10,11,12]) #1D\n",
    "n1 = arr.reshape(3,4)\n",
    "n2 = arr.copy().reshape(3,4)\n",
    "print(n1.base)\n",
    "arr[0] = 0 \n",
    "print(arr)\n",
    "print(n1)\n",
    "print(n2)\n",
    "\n",
    "\n"
   ]
  },
  {
   "cell_type": "code",
   "execution_count": 51,
   "metadata": {},
   "outputs": [
    {
     "data": {
      "text/plain": [
       "(16,)"
      ]
     },
     "execution_count": 51,
     "metadata": {},
     "output_type": "execute_result"
    }
   ],
   "source": [
    "## reshape with -1 dim\n",
    "\n",
    "arr = np.array([1,2,3,4,5,6,7,8,9,10,11,12,13,14,15,16])\n",
    "\n",
    "newarr = arr.reshape(2,2,-1)\n",
    "# arr.size\n",
    "newarr.shape\n",
    "newarr2 = newarr.reshape(-1)\n",
    "newarr2.shape"
   ]
  },
  {
   "cell_type": "code",
   "execution_count": 53,
   "metadata": {},
   "outputs": [
    {
     "name": "stdout",
     "output_type": "stream",
     "text": [
      "1\n",
      "2\n",
      "3\n",
      "4\n",
      "5\n",
      "6\n",
      "7\n",
      "8\n",
      "9\n",
      "10\n",
      "11\n",
      "12\n"
     ]
    }
   ],
   "source": [
    "# iterating in numpy array\n",
    "arr = np.array([[[1,2,3],[4,5,6]],[[7,8,9],[10,11,12]]])\n",
    "arr.shape\n",
    "for x in arr:\n",
    "    for y in x:\n",
    "        for z in y:\n",
    "            print(z)\n",
    "\n",
    "\n"
   ]
  },
  {
   "cell_type": "code",
   "execution_count": 67,
   "metadata": {},
   "outputs": [
    {
     "name": "stdout",
     "output_type": "stream",
     "text": [
      "[[1 2]\n",
      " [3 4]\n",
      " [5 6]\n",
      " [7 8]]\n",
      "(4, 2)\n",
      "[[1 2 5 6]\n",
      " [3 4 7 8]]\n",
      "(2, 4)\n"
     ]
    },
    {
     "data": {
      "text/plain": [
       "(2, 5)"
      ]
     },
     "execution_count": 67,
     "metadata": {},
     "output_type": "execute_result"
    }
   ],
   "source": [
    "# concat\n",
    "arr1 = np.array([[1,2],\n",
    "                 [3,4]])\n",
    "\n",
    "arr2 = np.array([[5,6],\n",
    "                 [7,8]])\n",
    "\n",
    "arr1.shape\n",
    "arr_row = np.concatenate((arr1, arr2) , axis =0 ) #concat along with axis =0\n",
    "arr_col = np.concatenate((arr1, arr2) , axis =1 )\n",
    "print(arr_row)\n",
    "print(arr_row.shape)\n",
    "print(arr_col)\n",
    "print(arr_col.shape)\n",
    "\n",
    "arr1 = np.array([[1,2,3],\n",
    "                [4,5,6]])   #(2,3)\n",
    "arr2 = np.array([[7,8],\n",
    "                [9,10]])    #(2,2)\n",
    "new_arr = np.concatenate((arr1,arr2), axis =1 )\n",
    "new_arr.shape"
   ]
  },
  {
   "cell_type": "code",
   "execution_count": 74,
   "metadata": {},
   "outputs": [
    {
     "name": "stdout",
     "output_type": "stream",
     "text": [
      "[ 1  2  3  4  5  6  7  8  9 10]\n",
      "[[ 1  2  3  4  5]\n",
      " [ 6  7  8  9 10]]\n"
     ]
    }
   ],
   "source": [
    "## 1D array concat\n",
    "from numpy import array as ar\n",
    "\n",
    "arr1 = ar([1,2,3,4,5])\n",
    "arr2 = ar([6,7,8,9,10])\n",
    "\n",
    "narr = np.concatenate((arr1,arr2), axis = 0)\n",
    "print(narr)\n",
    "\n",
    "\n",
    "arr1 = ar([[1,2,3,4,5]])\n",
    "arr2 = ar([[6,7,8,9,10]])\n",
    "\n",
    "narr = np.concatenate((arr1,arr2), axis = 0)\n",
    "print(narr)"
   ]
  },
  {
   "cell_type": "code",
   "execution_count": null,
   "metadata": {},
   "outputs": [],
   "source": [
    "## Stack \n",
    "#hstack\n",
    "#vstack\n",
    "#dstack\n",
    "## HW : difference stack vs concat\n",
    "# aya be stack ham niaaz darim ya kheir"
   ]
  },
  {
   "cell_type": "code",
   "execution_count": 83,
   "metadata": {},
   "outputs": [
    {
     "name": "stdout",
     "output_type": "stream",
     "text": [
      "(6, 3)\n",
      "[[ 1  2  3]\n",
      " [ 4  5  6]\n",
      " [ 7  8  9]\n",
      " [10 11 12]\n",
      " [13 14 15]\n",
      " [16 17 18]]\n",
      "3\n",
      "(2, 3)\n"
     ]
    }
   ],
   "source": [
    "## split\n",
    "arr = ar([[1,2,3],[4,5,6],[7,8,9],[10,11,12],[13,14,15],[16,17,18]])\n",
    "print(arr.shape)\n",
    "print(arr)\n",
    "new_arr = np.array_split(arr,3,axis=0)\n",
    "new_arr1 = np.vsplit(arr,3)\n",
    "print(len(new_arr))\n",
    "print(new_arr[2].shape)"
   ]
  },
  {
   "cell_type": "code",
   "execution_count": 93,
   "metadata": {},
   "outputs": [
    {
     "name": "stdout",
     "output_type": "stream",
     "text": [
      "4\n",
      "[ 1  5  6  6  8  9 11]\n"
     ]
    }
   ],
   "source": [
    "## search an array\n",
    "# arr  = ar([1,2,3,4,5,4,4])\n",
    "\n",
    "# x = np.where(arr == 4)\n",
    "\n",
    "# print(x[0])\n",
    "\n",
    "arr = ar([1,6,5,6,8,11,9])\n",
    "x = np.searchsorted(np.sort(arr),7)\n",
    "print(x)\n",
    "print(np.sort(arr))\n"
   ]
  },
  {
   "cell_type": "code",
   "execution_count": 94,
   "metadata": {},
   "outputs": [
    {
     "name": "stdout",
     "output_type": "stream",
     "text": [
      "[[2 3 4]\n",
      " [0 1 5]]\n"
     ]
    }
   ],
   "source": [
    "## sort in 2D array\n",
    "arr = ar([[3,2,4],[5,0,1]])\n",
    "print(np.sort(arr))"
   ]
  },
  {
   "cell_type": "code",
   "execution_count": 95,
   "metadata": {},
   "outputs": [
    {
     "name": "stdout",
     "output_type": "stream",
     "text": [
      "[ True False  True  True]\n",
      "[44 43 44]\n"
     ]
    }
   ],
   "source": [
    "## Array Filtering\n",
    "arr = ar([44,42,43,44])\n",
    "filter_arr = arr > 42\n",
    "newarr = arr[filter_arr]\n",
    "print(filter_arr)\n",
    "print(newarr)"
   ]
  },
  {
   "cell_type": "code",
   "execution_count": 113,
   "metadata": {},
   "outputs": [
    {
     "name": "stdout",
     "output_type": "stream",
     "text": [
      "[[4. 4. 4. 4.]\n",
      " [4. 4. 4. 4.]\n",
      " [4. 4. 4. 4.]]\n",
      "[[16. 16. 16. 16.]\n",
      " [16. 16. 16. 16.]\n",
      " [16. 16. 16. 16.]]\n",
      "[[2. 2. 2. 2.]\n",
      " [2. 2. 2. 2.]\n",
      " [2. 2. 2. 2.]]\n",
      "[12. 12. 12. 12.]\n"
     ]
    }
   ],
   "source": [
    "### ones and zeros\n",
    "a1 = np.ones((3,4))*4\n",
    "print(a1)\n",
    "# a2 = np.ones((1,3))\n",
    "# print(a2.T)\n",
    "# a3 = np.zeros((3,3))\n",
    "# print(a3)\n",
    "print(np.square(a1))\n",
    "print(np.sqrt(a1))\n",
    "print(np.sum(a1,axis=0))"
   ]
  }
 ],
 "metadata": {
  "kernelspec": {
   "display_name": "Python 3.9.15 ('Deepcls')",
   "language": "python",
   "name": "python3"
  },
  "language_info": {
   "codemirror_mode": {
    "name": "ipython",
    "version": 3
   },
   "file_extension": ".py",
   "mimetype": "text/x-python",
   "name": "python",
   "nbconvert_exporter": "python",
   "pygments_lexer": "ipython3",
   "version": "3.9.15"
  },
  "orig_nbformat": 4,
  "vscode": {
   "interpreter": {
    "hash": "44875976e7517052b86f01ede83136d6f2173c37ca755e5a9f350b3a1fa36fc3"
   }
  }
 },
 "nbformat": 4,
 "nbformat_minor": 2
}
