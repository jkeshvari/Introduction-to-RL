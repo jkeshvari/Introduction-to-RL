{
 "cells": [
  {
   "cell_type": "code",
   "execution_count": 13,
   "metadata": {},
   "outputs": [
    {
     "name": "stdout",
     "output_type": "stream",
     "text": [
      "2+3j\n",
      "3 0 Positive\n"
     ]
    }
   ],
   "source": [
    "# class = blueprint\n",
    "class ComplexNumber:\n",
    "    def __init__(self, r = 0, i = 0):\n",
    "        self.real = r\n",
    "        self.imag = i\n",
    "\n",
    "    def get_data(self):\n",
    "        print(f'{self.real}+{self.imag}j')\n",
    "\n",
    "num1 = ComplexNumber(2,3)\n",
    "num1.get_data()\n",
    "num2 = ComplexNumber(3)\n",
    "num2.sign = \"Positive\"\n",
    "print(num2.real,num2.imag,num2.sign)\n",
    "\n",
    "#print(num1.positive)\n"
   ]
  },
  {
   "cell_type": "code",
   "execution_count": 17,
   "metadata": {},
   "outputs": [
    {
     "name": "stdout",
     "output_type": "stream",
     "text": [
      "18.5 31\n",
      "25\n"
     ]
    }
   ],
   "source": [
    "class student:\n",
    "    def __init__(self,n,m,a):\n",
    "        self.name = n\n",
    "        self.mark = m\n",
    "        self.age = a\n",
    "\n",
    "S1 = student(\"Mohsen\", 18.5, 31)\n",
    "# S1.age = 31\n",
    "S2 = student(\"Ali\", 17, 25)\n",
    "print(S1.mark,S1.age)\n",
    "print(S2.age)\n"
   ]
  },
  {
   "cell_type": "code",
   "execution_count": 12,
   "metadata": {},
   "outputs": [
    {
     "name": "stdout",
     "output_type": "stream",
     "text": [
      "I can bark\n",
      "I can eat\n"
     ]
    }
   ],
   "source": [
    "# Inheritance\n",
    "class Animal:\n",
    "    def eat(self):\n",
    "        print(\"I can eat\")\n",
    "\n",
    "# dog1 = Animal()\n",
    "# dog1.eat()\n",
    "\n",
    "class Dog(Animal):\n",
    "    def bark(self):\n",
    "        print(\"I can bark\")\n",
    "\n",
    "dog1 = Dog()\n",
    "dog1.bark()\n",
    "dog1.eat()\n",
    "\n",
    "\n"
   ]
  }
 ],
 "metadata": {
  "kernelspec": {
   "display_name": "Python 3.9.15 ('Deepcls')",
   "language": "python",
   "name": "python3"
  },
  "language_info": {
   "codemirror_mode": {
    "name": "ipython",
    "version": 3
   },
   "file_extension": ".py",
   "mimetype": "text/x-python",
   "name": "python",
   "nbconvert_exporter": "python",
   "pygments_lexer": "ipython3",
   "version": "3.9.15"
  },
  "orig_nbformat": 4,
  "vscode": {
   "interpreter": {
    "hash": "44875976e7517052b86f01ede83136d6f2173c37ca755e5a9f350b3a1fa36fc3"
   }
  }
 },
 "nbformat": 4,
 "nbformat_minor": 2
}
