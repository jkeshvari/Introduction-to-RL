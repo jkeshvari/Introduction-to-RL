{
 "cells": [
  {
   "cell_type": "code",
   "execution_count": 8,
   "metadata": {},
   "outputs": [
    {
     "name": "stdout",
     "output_type": "stream",
     "text": [
      "Hi Ali\n",
      "Hi Sohrab\n"
     ]
    }
   ],
   "source": [
    "### Function\n",
    "# def function_name(input1,input2,input3):\n",
    "#    ...\n",
    "#    ...\n",
    "#    return ...\n",
    "\n",
    "def say_Hi(name = \"Ali\"):\n",
    "    print(\"Hi %s\" %name)\n",
    "\n",
    "say_Hi()\n",
    "say_Hi(\"Sohrab\")\n"
   ]
  },
  {
   "cell_type": "code",
   "execution_count": 12,
   "metadata": {},
   "outputs": [
    {
     "name": "stdout",
     "output_type": "stream",
     "text": [
      "30\n",
      "30\n"
     ]
    }
   ],
   "source": [
    "### Lambda\n",
    "# lambda arguments: expression\n",
    "\n",
    "x = lambda a,b,c: a+b+c\n",
    "\n",
    "def summation(a,b,c):\n",
    "    x = a+b+c\n",
    "    return x\n",
    "\n",
    "print(x(5,10,15))\n",
    "print(summation(5,10,15))"
   ]
  }
 ],
 "metadata": {
  "kernelspec": {
   "display_name": "Python 3.9.15 ('Deepcls')",
   "language": "python",
   "name": "python3"
  },
  "language_info": {
   "codemirror_mode": {
    "name": "ipython",
    "version": 3
   },
   "file_extension": ".py",
   "mimetype": "text/x-python",
   "name": "python",
   "nbconvert_exporter": "python",
   "pygments_lexer": "ipython3",
   "version": "3.9.15"
  },
  "orig_nbformat": 4,
  "vscode": {
   "interpreter": {
    "hash": "44875976e7517052b86f01ede83136d6f2173c37ca755e5a9f350b3a1fa36fc3"
   }
  }
 },
 "nbformat": 4,
 "nbformat_minor": 2
}
