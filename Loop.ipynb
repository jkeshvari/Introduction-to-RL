{
 "cells": [
  {
   "cell_type": "code",
   "execution_count": 4,
   "metadata": {},
   "outputs": [
    {
     "name": "stdout",
     "output_type": "stream",
     "text": [
      "chair\n",
      "desk\n",
      "bed\n"
     ]
    }
   ],
   "source": [
    "### LOOP\n",
    "#for\n",
    "\n",
    "# for i in range(0,10,1):\n",
    "#     print(i)\n",
    "\n",
    "# for in string\n",
    "# m1 = \"I Love Python\"\n",
    "# for char in m1:\n",
    "#     print(char)\n",
    "\n",
    "# for in list\n",
    "\n",
    "ls = [\"chair\",\"desk\",\"bed\"]\n",
    "\n",
    "for s in ls:\n",
    "    print(s)\n",
    "    "
   ]
  },
  {
   "cell_type": "code",
   "execution_count": 5,
   "metadata": {},
   "outputs": [
    {
     "name": "stdout",
     "output_type": "stream",
     "text": [
      "0\n",
      "1\n",
      "2\n",
      "3\n",
      "4\n",
      "5\n",
      "6\n",
      "7\n",
      "8\n",
      "9\n",
      "End of while\n"
     ]
    }
   ],
   "source": [
    "### While\n",
    "i =0\n",
    "while (i<10):\n",
    "    print(i)\n",
    "    i +=1  # i = i + 1\n",
    "\n",
    "else:\n",
    "    print(\"End of while\")"
   ]
  },
  {
   "cell_type": "code",
   "execution_count": 8,
   "metadata": {},
   "outputs": [
    {
     "name": "stdout",
     "output_type": "stream",
     "text": [
      "19\n"
     ]
    }
   ],
   "source": [
    "## continue and break in loop\n",
    "# break terminates the loop\n",
    "# continue starts the loop from begining\n",
    "h = 0\n",
    "for i in range(0,20):\n",
    "    if i == 7:\n",
    "        continue\n",
    "    h+=1\n",
    "\n",
    "print(h)\n"
   ]
  },
  {
   "cell_type": "code",
   "execution_count": 10,
   "metadata": {},
   "outputs": [
    {
     "name": "stdout",
     "output_type": "stream",
     "text": [
      "0\n",
      "1000\n"
     ]
    }
   ],
   "source": [
    "## difference between counter in for and while\n",
    "\n",
    "# for i in range(10):\n",
    "#     print(i)\n",
    "#     i+=1000\n",
    "#     print(i)\n",
    "\n",
    "\n",
    "i = 0 \n",
    "while (i<10):\n",
    "    print(i)\n",
    "    i+=1000\n",
    "    print(i)\n",
    "\n",
    "ls = [\"1\",\"2\"]\n"
   ]
  }
 ],
 "metadata": {
  "kernelspec": {
   "display_name": "Python 3.9.15 ('Deepcls')",
   "language": "python",
   "name": "python3"
  },
  "language_info": {
   "codemirror_mode": {
    "name": "ipython",
    "version": 3
   },
   "file_extension": ".py",
   "mimetype": "text/x-python",
   "name": "python",
   "nbconvert_exporter": "python",
   "pygments_lexer": "ipython3",
   "version": "3.9.15"
  },
  "orig_nbformat": 4,
  "vscode": {
   "interpreter": {
    "hash": "44875976e7517052b86f01ede83136d6f2173c37ca755e5a9f350b3a1fa36fc3"
   }
  }
 },
 "nbformat": 4,
 "nbformat_minor": 2
}
