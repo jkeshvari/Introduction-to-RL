{
 "cells": [
  {
   "cell_type": "code",
   "execution_count": 2,
   "metadata": {},
   "outputs": [
    {
     "name": "stdout",
     "output_type": "stream",
     "text": [
      "There once was a man named John,\n",
      "He was 70 years old,\n",
      "He really liked the name John,\n",
      "But he didn't like being 70.\n"
     ]
    }
   ],
   "source": [
    "##variable definition\n",
    "#string definition\n",
    "\n",
    "print('There once was a man named John,')\n",
    "print('He was 70 years old,')\n",
    "print('He really liked the name John,')\n",
    "print(\"But he didn't like being 70.\")"
   ]
  },
  {
   "cell_type": "code",
   "execution_count": 9,
   "metadata": {},
   "outputs": [
    {
     "name": "stdout",
     "output_type": "stream",
     "text": [
      "There once was a man named John,\n",
      "He was 30 years old,\n",
      "He really liked the name John,\n",
      "But he didn't like being 30.\n"
     ]
    }
   ],
   "source": [
    "ch_name = \"John\"\n",
    "ch_age = \"30\"\n",
    "\n",
    "print('There once was a man named '+ch_name+',')\n",
    "print('He was '+ch_age+' years old,')\n",
    "print('He really liked the name '+ch_name+',')\n",
    "print(\"But he didn't like being \"+ch_age+\".\")"
   ]
  },
  {
   "cell_type": "code",
   "execution_count": 11,
   "metadata": {},
   "outputs": [
    {
     "name": "stdout",
     "output_type": "stream",
     "text": [
      "Python Programing\n",
      "<class 'str'>\n"
     ]
    }
   ],
   "source": [
    "# String\n",
    "x1 = \"Python Programing\"\n",
    "print(x1)\n",
    "print(type(x1))"
   ]
  },
  {
   "cell_type": "code",
   "execution_count": 16,
   "metadata": {},
   "outputs": [
    {
     "name": "stdout",
     "output_type": "stream",
     "text": [
      "<class 'str'>\n",
      "9\n"
     ]
    }
   ],
   "source": [
    "#input\n",
    "x2 = input(\"Enter your number\")\n",
    "print(type(x2))\n",
    "x2 = int(x2)\n",
    "print(x2+5)"
   ]
  },
  {
   "cell_type": "code",
   "execution_count": 27,
   "metadata": {},
   "outputs": [
    {
     "name": "stdout",
     "output_type": "stream",
     "text": [
      "['case', 'Laptop', 'keyboard']\n",
      "['case', 'Laptop']\n"
     ]
    }
   ],
   "source": [
    "## LIST\n",
    "Staff = [\"case\",\"mouse\",\"keyboard\"]\n",
    "#          0       1         2\n",
    "#          -3     -2      -1\n",
    "#print(Staff[0:3])\n",
    "#print(Staff[2])\n",
    "#insert\n",
    "#print(Staff)\n",
    "\n",
    "#edit\n",
    "Staff[1] = \"Laptop\"\n",
    "print(Staff)\n",
    "\n",
    "#remove\n",
    "#Staff.remove(\"Laptop\")\n",
    "#print(Staff)\n",
    "\n",
    "#delete\n",
    "\n",
    "# del Staff[-1]\n",
    "# print(Staff)\n",
    "\n",
    "#pop\n",
    "\n",
    "Staff.pop()\n",
    "print(Staff)\n",
    "\n"
   ]
  },
  {
   "cell_type": "code",
   "execution_count": 36,
   "metadata": {},
   "outputs": [
    {
     "name": "stdout",
     "output_type": "stream",
     "text": [
      "[6, 5, 4, 4, 3, 2, 2, 2, 1]\n"
     ]
    }
   ],
   "source": [
    "## call by refrence & call by value\n",
    "\n",
    "list1 = [1,2,3,4]\n",
    "\n",
    "list1copy = list1\n",
    "\n",
    "list2 = list1.copy()\n",
    "\n",
    "list1.pop()\n",
    "# print(list1,list1copy,list2)\n",
    "\n",
    "#join\n",
    "\n",
    "# list3 = list1 + list2\n",
    "# print(list3)\n",
    "# list1.extend(list2)\n",
    "# print(list1)\n",
    "#sort\n",
    "slist = sorted([4,2,5,4,6,1,3,2,2])\n",
    "slist.reverse()\n",
    "print(slist)\n"
   ]
  },
  {
   "cell_type": "code",
   "execution_count": 45,
   "metadata": {},
   "outputs": [
    {
     "name": "stdout",
     "output_type": "stream",
     "text": [
      "('a', 'b', 'c', 'd')\n",
      "d\n",
      "('a', 'b', 'c', 'd', 'a', 'b', 'c', 'd')\n"
     ]
    }
   ],
   "source": [
    "### Tuple\n",
    "tup1 = (\"a\",\"b\",\"c\",\"d\")\n",
    "#        0   1   2   3\n",
    "print(tup1)\n",
    "# list_tup = list(tup1)\n",
    "# print(list_tup)\n",
    "# len\n",
    "# print(len(tup1))\n",
    "#indexing\n",
    "print(tup1[3])\n",
    "# tup1[3] = \"e\"\n",
    "# for changing , tup -> list -> modification -> tup\n",
    "\n",
    "tup2 = tup1+tup1\n",
    "print(tup2)"
   ]
  },
  {
   "cell_type": "code",
   "execution_count": 51,
   "metadata": {},
   "outputs": [
    {
     "name": "stdout",
     "output_type": "stream",
     "text": [
      "{'title', 'subject', 'date', 'author'}\n",
      "{'subject', 'title', 'author', 'date', 'content'}\n",
      "{'subject', 'title', 'author', 'date', 'content'}\n",
      "{1, 2, 'subject', 3, 4, 5, 6, 7, 8, 9, 10, 'title', 'author', 'date', 'content'}\n",
      "{2, 'subject', 3, 4, 5, 6, 7, 8, 9, 10, 'title', 'author', 'date', 'content'}\n"
     ]
    }
   ],
   "source": [
    "## Sets\n",
    "## cannot have repitetives\n",
    "tset = {\"title\",\"author\",\"date\",\"subject\"}\n",
    "print(tset)\n",
    "\n",
    "# add \n",
    "tset.add(\"content\")\n",
    "print(tset)\n",
    "tset.add(\"title\")\n",
    "print(tset)\n",
    "\n",
    "# add a list to a set\n",
    "\n",
    "tset.update([1,2,3,4,5,6,7,8,9,10])\n",
    "print(tset)\n",
    "# order is not important\n",
    "\n",
    "#len\n",
    "len(tset)\n",
    "\n",
    "#remove\n",
    "tset.remove(1)\n",
    "print(tset)\n",
    "\n",
    "\n",
    "\n",
    "\n"
   ]
  },
  {
   "cell_type": "code",
   "execution_count": 56,
   "metadata": {},
   "outputs": [
    {
     "name": "stdout",
     "output_type": "stream",
     "text": [
      "{'brand': 'Ford', 'model': 'Mustang', 'year': '1964'}\n",
      "3\n",
      "{'brand': 'Ford', 'model': 'Mustang', 'year': 2010}\n"
     ]
    }
   ],
   "source": [
    "## Dictionary\n",
    "# key : value\n",
    "dcar = {\n",
    "    \"brand\" : \"Ford\",\n",
    "    \"model\" : \"Mustang\",\n",
    "    \"year\" : \"1964\"\n",
    "}\n",
    "print(dcar)\n",
    "\n",
    "# get value\n",
    "# x = dcar.get(\"model\")\n",
    "# print(x)\n",
    "\n",
    "# len\n",
    "# print(len(dcar))\n",
    "\n",
    "# change value/update\n",
    "dcar[\"year\"] = 2010\n",
    "print(dcar)\n",
    "\n"
   ]
  },
  {
   "cell_type": "code",
   "execution_count": 58,
   "metadata": {},
   "outputs": [
    {
     "name": "stdout",
     "output_type": "stream",
     "text": [
      "{'name': 'Mohsen', 'family': 'Saffar'}\n",
      "{'name': 'Ali', 'city': 'Ahwaz'}\n",
      "{'name': 'Ali', 'family': 'Saffar', 'city': 'Ahwaz'}\n"
     ]
    }
   ],
   "source": [
    "# update dictionary\n",
    "\n",
    "dict1 = {\n",
    "    \"name\" : \"Mohsen\",\n",
    "    \"family\" : \"Saffar\"\n",
    "}\n",
    "print(dict1)\n",
    "\n",
    "dict2 = {\n",
    "    \"name\" : \"Ali\",\n",
    "    \"city\" : \"Ahwaz\"\n",
    "\n",
    "}\n",
    "print(dict2)\n",
    "\n",
    "dict1.update(dict2)\n",
    "print(dict1)\n",
    "\n",
    "\n"
   ]
  }
 ],
 "metadata": {
  "kernelspec": {
   "display_name": "Python 3.9.15 ('Deepcls')",
   "language": "python",
   "name": "python3"
  },
  "language_info": {
   "codemirror_mode": {
    "name": "ipython",
    "version": 3
   },
   "file_extension": ".py",
   "mimetype": "text/x-python",
   "name": "python",
   "nbconvert_exporter": "python",
   "pygments_lexer": "ipython3",
   "version": "3.9.15"
  },
  "orig_nbformat": 4,
  "vscode": {
   "interpreter": {
    "hash": "44875976e7517052b86f01ede83136d6f2173c37ca755e5a9f350b3a1fa36fc3"
   }
  }
 },
 "nbformat": 4,
 "nbformat_minor": 2
}
